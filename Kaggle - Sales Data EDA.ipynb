{
 "cells": [
  {
   "cell_type": "code",
   "execution_count": 1,
   "metadata": {},
   "outputs": [],
   "source": [
    "# Importing required librries\n",
    "\n",
    "import pandas as pd\n",
    "import numpy as np\n",
    "import matplotlib.pyplot as plt\n",
    "import seaborn as sns\n",
    "from matplotlib.ticker import StrMethodFormatter"
   ]
  },
  {
   "cell_type": "code",
   "execution_count": 2,
   "metadata": {},
   "outputs": [],
   "source": [
    "data = pd.read_csv('anaconda3/Online Shop Customer Sales Data.csv')"
   ]
  },
  {
   "cell_type": "markdown",
   "metadata": {},
   "source": [
    "#Understand Data Set#"
   ]
  },
  {
   "cell_type": "code",
   "execution_count": 3,
   "metadata": {},
   "outputs": [
    {
     "data": {
      "text/plain": [
       "Index([u'Customer_id', u'Age', u'Gender', u'Revenue_Total', u'N_Purchases',\n",
       "       u'Purchase_DATE', u'Purchase_VALUE', u'Pay_Method', u'Time_Spent',\n",
       "       u'Browser', u'Newsletter', u'Voucher'],\n",
       "      dtype='object')"
      ]
     },
     "execution_count": 3,
     "metadata": {},
     "output_type": "execute_result"
    }
   ],
   "source": [
    "data.columns"
   ]
  },
  {
   "cell_type": "markdown",
   "metadata": {},
   "source": [
    "Cell Descriptions: \n",
    "\n",
    "- Customer_id: A unique identifier for each customer.\n",
    "- Age: The age of the customer.\n",
    "- Gender: A binary variable where 0 represents male and 1 represents female.\n",
    "- Revenue_Total: Total sales revenue by the customer.\n",
    "- N_Purchases: The number of purchases made by the customer to date.\n",
    "- Purchase_DATE: The date of the latest purchase made by the customer.\n",
    "- Purchase_VALUE: The value of the latest purchase made by the customer in euros.\n",
    "- Pay_Method: A categorical variable indicating the payment method used by the customer. The - - categories are digital wallets, card, PayPal, and other.\n",
    "- Time_Spent: The time spent by the customer on the website in seconds.\n",
    "- Browser: A categorical variable indicating the browser used by the customer. The categories are Chrome, Safari, Edge, and other.\n",
    "- Newsletter: A binary variable indicating whether the customer is subscribed to the newsletter or not.\n",
    "- Voucher: A binary variable indicating whether the customer has used a voucher or not."
   ]
  },
  {
   "cell_type": "code",
   "execution_count": 4,
   "metadata": {},
   "outputs": [
    {
     "data": {
      "text/html": [
       "<div>\n",
       "<style scoped>\n",
       "    .dataframe tbody tr th:only-of-type {\n",
       "        vertical-align: middle;\n",
       "    }\n",
       "\n",
       "    .dataframe tbody tr th {\n",
       "        vertical-align: top;\n",
       "    }\n",
       "\n",
       "    .dataframe thead th {\n",
       "        text-align: right;\n",
       "    }\n",
       "</style>\n",
       "<table border=\"1\" class=\"dataframe\">\n",
       "  <thead>\n",
       "    <tr style=\"text-align: right;\">\n",
       "      <th></th>\n",
       "      <th>Customer_id</th>\n",
       "      <th>Age</th>\n",
       "      <th>Gender</th>\n",
       "      <th>Revenue_Total</th>\n",
       "      <th>N_Purchases</th>\n",
       "      <th>Purchase_DATE</th>\n",
       "      <th>Purchase_VALUE</th>\n",
       "      <th>Pay_Method</th>\n",
       "      <th>Time_Spent</th>\n",
       "      <th>Browser</th>\n",
       "      <th>Newsletter</th>\n",
       "      <th>Voucher</th>\n",
       "    </tr>\n",
       "  </thead>\n",
       "  <tbody>\n",
       "    <tr>\n",
       "      <th>0</th>\n",
       "      <td>504308</td>\n",
       "      <td>53</td>\n",
       "      <td>0</td>\n",
       "      <td>45.3</td>\n",
       "      <td>2</td>\n",
       "      <td>22.06.21</td>\n",
       "      <td>24.915</td>\n",
       "      <td>1</td>\n",
       "      <td>885</td>\n",
       "      <td>0</td>\n",
       "      <td>0</td>\n",
       "      <td>0</td>\n",
       "    </tr>\n",
       "    <tr>\n",
       "      <th>1</th>\n",
       "      <td>504309</td>\n",
       "      <td>18</td>\n",
       "      <td>1</td>\n",
       "      <td>36.2</td>\n",
       "      <td>3</td>\n",
       "      <td>10.12.21</td>\n",
       "      <td>2.896</td>\n",
       "      <td>2</td>\n",
       "      <td>656</td>\n",
       "      <td>0</td>\n",
       "      <td>0</td>\n",
       "      <td>1</td>\n",
       "    </tr>\n",
       "    <tr>\n",
       "      <th>2</th>\n",
       "      <td>504310</td>\n",
       "      <td>52</td>\n",
       "      <td>1</td>\n",
       "      <td>10.6</td>\n",
       "      <td>1</td>\n",
       "      <td>14.03.21</td>\n",
       "      <td>10.600</td>\n",
       "      <td>0</td>\n",
       "      <td>761</td>\n",
       "      <td>0</td>\n",
       "      <td>1</td>\n",
       "      <td>0</td>\n",
       "    </tr>\n",
       "    <tr>\n",
       "      <th>3</th>\n",
       "      <td>504311</td>\n",
       "      <td>29</td>\n",
       "      <td>0</td>\n",
       "      <td>54.1</td>\n",
       "      <td>5</td>\n",
       "      <td>25.10.21</td>\n",
       "      <td>43.280</td>\n",
       "      <td>1</td>\n",
       "      <td>906</td>\n",
       "      <td>0</td>\n",
       "      <td>1</td>\n",
       "      <td>0</td>\n",
       "    </tr>\n",
       "    <tr>\n",
       "      <th>4</th>\n",
       "      <td>504312</td>\n",
       "      <td>21</td>\n",
       "      <td>1</td>\n",
       "      <td>56.9</td>\n",
       "      <td>1</td>\n",
       "      <td>14.09.21</td>\n",
       "      <td>56.900</td>\n",
       "      <td>1</td>\n",
       "      <td>605</td>\n",
       "      <td>0</td>\n",
       "      <td>1</td>\n",
       "      <td>0</td>\n",
       "    </tr>\n",
       "  </tbody>\n",
       "</table>\n",
       "</div>"
      ],
      "text/plain": [
       "   Customer_id  Age  Gender  Revenue_Total  N_Purchases Purchase_DATE  \\\n",
       "0       504308   53       0           45.3            2      22.06.21   \n",
       "1       504309   18       1           36.2            3      10.12.21   \n",
       "2       504310   52       1           10.6            1      14.03.21   \n",
       "3       504311   29       0           54.1            5      25.10.21   \n",
       "4       504312   21       1           56.9            1      14.09.21   \n",
       "\n",
       "   Purchase_VALUE  Pay_Method  Time_Spent  Browser  Newsletter  Voucher  \n",
       "0          24.915           1         885        0           0        0  \n",
       "1           2.896           2         656        0           0        1  \n",
       "2          10.600           0         761        0           1        0  \n",
       "3          43.280           1         906        0           1        0  \n",
       "4          56.900           1         605        0           1        0  "
      ]
     },
     "execution_count": 4,
     "metadata": {},
     "output_type": "execute_result"
    }
   ],
   "source": [
    "data.head()"
   ]
  },
  {
   "cell_type": "code",
   "execution_count": 5,
   "metadata": {},
   "outputs": [
    {
     "data": {
      "text/html": [
       "<div>\n",
       "<style scoped>\n",
       "    .dataframe tbody tr th:only-of-type {\n",
       "        vertical-align: middle;\n",
       "    }\n",
       "\n",
       "    .dataframe tbody tr th {\n",
       "        vertical-align: top;\n",
       "    }\n",
       "\n",
       "    .dataframe thead th {\n",
       "        text-align: right;\n",
       "    }\n",
       "</style>\n",
       "<table border=\"1\" class=\"dataframe\">\n",
       "  <thead>\n",
       "    <tr style=\"text-align: right;\">\n",
       "      <th></th>\n",
       "      <th>Customer_id</th>\n",
       "      <th>Age</th>\n",
       "      <th>Gender</th>\n",
       "      <th>Revenue_Total</th>\n",
       "      <th>N_Purchases</th>\n",
       "      <th>Purchase_DATE</th>\n",
       "      <th>Purchase_VALUE</th>\n",
       "      <th>Pay_Method</th>\n",
       "      <th>Time_Spent</th>\n",
       "      <th>Browser</th>\n",
       "      <th>Newsletter</th>\n",
       "      <th>Voucher</th>\n",
       "    </tr>\n",
       "  </thead>\n",
       "  <tbody>\n",
       "    <tr>\n",
       "      <th>65791</th>\n",
       "      <td>570099</td>\n",
       "      <td>30</td>\n",
       "      <td>1</td>\n",
       "      <td>10.9</td>\n",
       "      <td>4</td>\n",
       "      <td>15.02.21</td>\n",
       "      <td>6.213</td>\n",
       "      <td>1</td>\n",
       "      <td>894</td>\n",
       "      <td>0</td>\n",
       "      <td>0</td>\n",
       "      <td>0</td>\n",
       "    </tr>\n",
       "    <tr>\n",
       "      <th>65792</th>\n",
       "      <td>570100</td>\n",
       "      <td>33</td>\n",
       "      <td>0</td>\n",
       "      <td>29.3</td>\n",
       "      <td>1</td>\n",
       "      <td>05.02.21</td>\n",
       "      <td>29.300</td>\n",
       "      <td>0</td>\n",
       "      <td>722</td>\n",
       "      <td>0</td>\n",
       "      <td>0</td>\n",
       "      <td>0</td>\n",
       "    </tr>\n",
       "    <tr>\n",
       "      <th>65793</th>\n",
       "      <td>570101</td>\n",
       "      <td>50</td>\n",
       "      <td>0</td>\n",
       "      <td>25.4</td>\n",
       "      <td>5</td>\n",
       "      <td>29.10.21</td>\n",
       "      <td>23.114</td>\n",
       "      <td>3</td>\n",
       "      <td>424</td>\n",
       "      <td>0</td>\n",
       "      <td>0</td>\n",
       "      <td>0</td>\n",
       "    </tr>\n",
       "    <tr>\n",
       "      <th>65794</th>\n",
       "      <td>570102</td>\n",
       "      <td>56</td>\n",
       "      <td>0</td>\n",
       "      <td>29.2</td>\n",
       "      <td>1</td>\n",
       "      <td>09.12.21</td>\n",
       "      <td>29.200</td>\n",
       "      <td>3</td>\n",
       "      <td>731</td>\n",
       "      <td>0</td>\n",
       "      <td>0</td>\n",
       "      <td>0</td>\n",
       "    </tr>\n",
       "    <tr>\n",
       "      <th>65795</th>\n",
       "      <td>570103</td>\n",
       "      <td>25</td>\n",
       "      <td>0</td>\n",
       "      <td>5.3</td>\n",
       "      <td>2</td>\n",
       "      <td>23.10.21</td>\n",
       "      <td>2.968</td>\n",
       "      <td>0</td>\n",
       "      <td>820</td>\n",
       "      <td>0</td>\n",
       "      <td>0</td>\n",
       "      <td>0</td>\n",
       "    </tr>\n",
       "  </tbody>\n",
       "</table>\n",
       "</div>"
      ],
      "text/plain": [
       "       Customer_id  Age  Gender  Revenue_Total  N_Purchases Purchase_DATE  \\\n",
       "65791       570099   30       1           10.9            4      15.02.21   \n",
       "65792       570100   33       0           29.3            1      05.02.21   \n",
       "65793       570101   50       0           25.4            5      29.10.21   \n",
       "65794       570102   56       0           29.2            1      09.12.21   \n",
       "65795       570103   25       0            5.3            2      23.10.21   \n",
       "\n",
       "       Purchase_VALUE  Pay_Method  Time_Spent  Browser  Newsletter  Voucher  \n",
       "65791           6.213           1         894        0           0        0  \n",
       "65792          29.300           0         722        0           0        0  \n",
       "65793          23.114           3         424        0           0        0  \n",
       "65794          29.200           3         731        0           0        0  \n",
       "65795           2.968           0         820        0           0        0  "
      ]
     },
     "execution_count": 5,
     "metadata": {},
     "output_type": "execute_result"
    }
   ],
   "source": [
    "data.tail()"
   ]
  },
  {
   "cell_type": "code",
   "execution_count": 6,
   "metadata": {},
   "outputs": [
    {
     "name": "stdout",
     "output_type": "stream",
     "text": [
      "int64\n",
      "count    65796.000000\n",
      "mean        39.592696\n",
      "std         13.825466\n",
      "min         16.000000\n",
      "25%         28.000000\n",
      "50%         40.000000\n",
      "75%         51.000000\n",
      "max         63.000000\n",
      "Name: Age, dtype: float64\n"
     ]
    }
   ],
   "source": [
    "print(data['Age'].dtype)\n",
    "print(data['Age'].describe())"
   ]
  },
  {
   "cell_type": "markdown",
   "metadata": {},
   "source": [
    "Customer Demographics\n",
    "- Number of Distinct: 65,796\n",
    "- Minimum Age: 16\n",
    "- Maximum Age: 63\n",
    "- Median Age 40\n",
    "- Mean Age 39.6\n",
    "\n",
    "\n"
   ]
  },
  {
   "cell_type": "markdown",
   "metadata": {},
   "source": [
    "Visualize "
   ]
  },
  {
   "cell_type": "code",
   "execution_count": 7,
   "metadata": {},
   "outputs": [
    {
     "data": {
      "image/png": "[encoded data removed]",
      "text/plain": [
       "<matplotlib.figure.Figure at 0x1118bdad0>"
      ]
     },
     "metadata": {},
     "output_type": "display_data"
    }
   ],
   "source": [
    "ax = data.hist(column='Age', bins = 48, grid=True, figsize=(10,12), layout=(2,1), sharex=True, color='#005859', rwidth=0.9)"
   ]
  },
  {
   "cell_type": "markdown",
   "metadata": {},
   "source": [
    "- INSIGHT - \n",
    "- Generally uniform distribution without any notable distinctions beyond the minimum and maximum range of 16-63"
   ]
  },
  {
   "cell_type": "markdown",
   "metadata": {},
   "source": [
    "- DATA PREPARATION - SPLIT INTO AGE GROUPS BY TEN YEARS"
   ]
  },
  {
   "cell_type": "code",
   "execution_count": 8,
   "metadata": {},
   "outputs": [],
   "source": [
    "# Create age bins\n",
    "age_bins = [15, 25, 35, 45, 55, 65]\n",
    "age_labels = ['16-25', '26-35', '36-45', '46-55','56-65']\n",
    "data['Age_Group'] = pd.cut(data['Age'], bins=age_bins, labels=age_labels)"
   ]
  },
  {
   "cell_type": "markdown",
   "metadata": {},
   "source": [
    "- Total & Percent of Revenue by Age"
   ]
  },
  {
   "cell_type": "code",
   "execution_count": 9,
   "metadata": {},
   "outputs": [
    {
     "name": "stdout",
     "output_type": "stream",
     "text": [
      "  Age_Group  Revenue_Total  Revenue_Percentage\n",
      "0     16-25       375562.3               20.58\n",
      "1     26-35       376502.2               20.63\n",
      "2     36-45       383389.7               21.01\n",
      "3     46-55       384786.3               21.09\n",
      "4     56-65       304475.7               16.69\n"
     ]
    }
   ],
   "source": [
    "# Group the data by age group and calculate total revenue\n",
    "age_revenue = data.groupby('Age_Group')['Revenue_Total'].sum().reset_index()\n",
    "\n",
    "# Calculate the percentage of total revenue generated by each age group\n",
    "age_revenue['Revenue_Percentage'] = age_revenue['Revenue_Total'] / age_revenue['Revenue_Total'].sum() * 100\n",
    "\n",
    "age_revenue['Revenue_Percentage'] = age_revenue['Revenue_Percentage'].round(2)\n",
    "\n",
    "# Print the results\n",
    "print(age_revenue)"
   ]
  },
  {
   "cell_type": "markdown",
   "metadata": {},
   "source": [
    "-INSIGHT-\n",
    "- The four cohorts within 16 - 55 each makeup 20.5-21.1% of company revenue. \n",
    "- Only ages 56-65 differ strongly, spending 3.8 - 4.4% less than other groups at 16.7%"
   ]
  },
  {
   "cell_type": "code",
   "execution_count": 16,
   "metadata": {},
   "outputs": [
    {
     "data": {
      "text/plain": [
       "Text(0.5,1,u'Revenue by Age Groups')"
      ]
     },
     "execution_count": 16,
     "metadata": {},
     "output_type": "execute_result"
    },
    {
     "data": {
      "image/png": "[encoded data removed]",
      "text/plain": [
       "<matplotlib.figure.Figure at 0x18b1a9e10>"
      ]
     },
     "metadata": {},
     "output_type": "display_data"
    }
   ],
   "source": [
    "ay = age_revenue.plot.bar(x='Age_Group', y='Revenue_Total', rot=0, color='000000')\n",
    "ay.set_title('Revenue by Age Groups')\n"
   ]
  },
  {
   "cell_type": "code",
   "execution_count": 13,
   "metadata": {},
   "outputs": [
    {
     "data": {
      "text/html": [
       "<div>\n",
       "<style scoped>\n",
       "    .dataframe tbody tr th:only-of-type {\n",
       "        vertical-align: middle;\n",
       "    }\n",
       "\n",
       "    .dataframe tbody tr th {\n",
       "        vertical-align: top;\n",
       "    }\n",
       "\n",
       "    .dataframe thead th {\n",
       "        text-align: right;\n",
       "    }\n",
       "</style>\n",
       "<table border=\"1\" class=\"dataframe\">\n",
       "  <thead>\n",
       "    <tr style=\"text-align: right;\">\n",
       "      <th></th>\n",
       "      <th>Age_Group</th>\n",
       "      <th>Revenue_Total</th>\n",
       "      <th>Revenue_Percentage</th>\n",
       "    </tr>\n",
       "  </thead>\n",
       "  <tbody>\n",
       "    <tr>\n",
       "      <th>0</th>\n",
       "      <td>16-25</td>\n",
       "      <td>375562.3</td>\n",
       "      <td>20.58</td>\n",
       "    </tr>\n",
       "    <tr>\n",
       "      <th>1</th>\n",
       "      <td>26-35</td>\n",
       "      <td>376502.2</td>\n",
       "      <td>20.63</td>\n",
       "    </tr>\n",
       "    <tr>\n",
       "      <th>2</th>\n",
       "      <td>36-45</td>\n",
       "      <td>383389.7</td>\n",
       "      <td>21.01</td>\n",
       "    </tr>\n",
       "    <tr>\n",
       "      <th>3</th>\n",
       "      <td>46-55</td>\n",
       "      <td>384786.3</td>\n",
       "      <td>21.09</td>\n",
       "    </tr>\n",
       "    <tr>\n",
       "      <th>4</th>\n",
       "      <td>56-65</td>\n",
       "      <td>304475.7</td>\n",
       "      <td>16.69</td>\n",
       "    </tr>\n",
       "  </tbody>\n",
       "</table>\n",
       "</div>"
      ],
      "text/plain": [
       "  Age_Group  Revenue_Total  Revenue_Percentage\n",
       "0     16-25       375562.3               20.58\n",
       "1     26-35       376502.2               20.63\n",
       "2     36-45       383389.7               21.01\n",
       "3     46-55       384786.3               21.09\n",
       "4     56-65       304475.7               16.69"
      ]
     },
     "execution_count": 13,
     "metadata": {},
     "output_type": "execute_result"
    }
   ],
   "source": []
  },
  {
   "cell_type": "code",
   "execution_count": null,
   "metadata": {},
   "outputs": [],
   "source": []
  }
 ],
 "metadata": {
  "kernelspec": {
   "display_name": "Python 2",
   "language": "python",
   "name": "python2"
  },
  "language_info": {
   "codemirror_mode": {
    "name": "ipython",
    "version": 2
   },
   "file_extension": ".py",
   "mimetype": "text/x-python",
   "name": "python",
   "nbconvert_exporter": "python",
   "pygments_lexer": "ipython2",
   "version": "2.7.9"
  }
 },
 "nbformat": 4,
 "nbformat_minor": 2
}
